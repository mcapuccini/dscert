{
 "metadata": {
  "language_info": {
   "codemirror_mode": {
    "name": "ipython",
    "version": 3
   },
   "file_extension": ".py",
   "mimetype": "text/x-python",
   "name": "python",
   "nbconvert_exporter": "python",
   "pygments_lexer": "ipython3",
   "version": "3.7.0-final"
  },
  "orig_nbformat": 2,
  "kernelspec": {
   "name": "python37064bitbaseconda7a6f723de0684a4e8ef69102fcac7d81",
   "display_name": "Python 3.7.0 64-bit ('base': conda)",
   "language": "python"
  }
 },
 "nbformat": 4,
 "nbformat_minor": 2,
 "cells": [
  {
   "cell_type": "code",
   "execution_count": 2,
   "metadata": {},
   "outputs": [],
   "source": [
    "# Connect to workspace\n",
    "from azureml.core import Workspace\n",
    "ws = Workspace.from_config()"
   ]
  },
  {
   "cell_type": "code",
   "execution_count": 10,
   "metadata": {},
   "outputs": [],
   "source": [
    "# Define a search space for hyperparamenter\n",
    "from azureml.train.hyperdrive import GridParameterSampling, choice\n",
    "\n",
    "param_space = {'--reg-rate': choice(0.1,0.2,0.3)}\n",
    "param_sampling = GridParameterSampling(param_space) # grid search"
   ]
  },
  {
   "cell_type": "code",
   "execution_count": 7,
   "metadata": {},
   "outputs": [
    {
     "output_type": "stream",
     "name": "stderr",
     "text": [
      "Property base_image is mutually exclusive with base_dockerfile. Reset base_image to None\n"
     ]
    }
   ],
   "source": [
    "# Define script configuration\n",
    "from azureml.core import ScriptRunConfig, Environment\n",
    "\n",
    "# Setup Docker environment\n",
    "myenv = Environment(name=\"myenv\")\n",
    "myenv.docker.enabled = True\n",
    "with open(\"Dockerfile\", \"r\") as f:\n",
    "    dockerfile=f.read()\n",
    "myenv.docker.base_dockerfile = dockerfile\n",
    "myenv.python.user_managed_dependencies = True\n",
    "\n",
    "# Create a script config\n",
    "script_config = ScriptRunConfig(source_directory='scripts',\n",
    "                                script='diabetes_lr.py',\n",
    "                                compute_target=ws.compute_targets['cluster'],\n",
    "                                environment=myenv) "
   ]
  },
  {
   "cell_type": "code",
   "execution_count": 11,
   "metadata": {},
   "outputs": [],
   "source": [
    "# Run hyperparameter opt\n",
    "from azureml.core import Experiment\n",
    "from azureml.train.hyperdrive import HyperDriveConfig, PrimaryMetricGoal\n",
    "\n",
    "# Configure HyperDrive\n",
    "hyperdrive = HyperDriveConfig(run_config=script_config,\n",
    "                              hyperparameter_sampling=param_sampling,\n",
    "                              policy=None,\n",
    "                              primary_metric_name='Accuracy',\n",
    "                              primary_metric_goal=PrimaryMetricGoal.MAXIMIZE,\n",
    "                              max_total_runs=6,\n",
    "                              max_concurrent_runs=4)\n",
    "\n",
    "experiment = Experiment(workspace = ws, name = 'hyperdrive_training')\n",
    "hyperdrive_run = experiment.submit(config=hyperdrive)"
   ]
  }
 ]
}