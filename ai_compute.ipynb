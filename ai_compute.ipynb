{
 "metadata": {
  "language_info": {
   "codemirror_mode": {
    "name": "ipython",
    "version": 3
   },
   "file_extension": ".py",
   "mimetype": "text/x-python",
   "name": "python",
   "nbconvert_exporter": "python",
   "pygments_lexer": "ipython3",
   "version": "3.7.0-final"
  },
  "orig_nbformat": 2,
  "kernelspec": {
   "name": "python37064bitbasecondae2be02ec580a446baab5d252dd831a70",
   "display_name": "Python 3.7.0 64-bit ('base': conda)",
   "language": "python"
  }
 },
 "nbformat": 4,
 "nbformat_minor": 2,
 "cells": [
  {
   "cell_type": "code",
   "execution_count": 1,
   "metadata": {},
   "outputs": [
    {
     "output_type": "stream",
     "name": "stdout",
     "text": [
      "\u001b[33mTo sign in, use a web browser to open the page https://microsoft.com/devicelogin and enter the code DUSM69KD7 to authenticate.\u001b[0m\n"
     ]
    }
   ],
   "source": [
    "# Login\n",
    "!az login > /dev/null"
   ]
  },
  {
   "cell_type": "code",
   "execution_count": 2,
   "metadata": {},
   "outputs": [
    {
     "output_type": "stream",
     "name": "stderr",
     "text": [
      "Warning: Falling back to use azure cli login credentials.\nIf you run your code in unattended mode, i.e., where you can't give a user input, then we recommend to use ServicePrincipalAuthentication or MsiAuthentication.\nPlease refer to aka.ms/aml-notebook-auth for different authentication mechanisms in azureml-sdk.\n"
     ]
    }
   ],
   "source": [
    "# Connect to workspace\n",
    "from azureml.core import Workspace\n",
    "ws = Workspace.from_config()"
   ]
  },
  {
   "cell_type": "code",
   "execution_count": 4,
   "metadata": {},
   "outputs": [
    {
     "output_type": "stream",
     "name": "stderr",
     "text": [
      "Property base_image is mutually exclusive with base_dockerfile. Reset base_image to None\n"
     ]
    }
   ],
   "source": [
    "# Create Docker environment\n",
    "from azureml.core import Environment\n",
    "\n",
    "myenv = Environment(name=\"myenv\")\n",
    "myenv.docker.enabled = True\n",
    "with open(\"Dockerfile\", \"r\") as f:\n",
    "    dockerfile=f.read()\n",
    "myenv.docker.base_dockerfile = dockerfile\n",
    "myenv.python.user_managed_dependencies = True"
   ]
  },
  {
   "cell_type": "code",
   "execution_count": 6,
   "metadata": {},
   "outputs": [
    {
     "output_type": "execute_result",
     "data": {
      "text/plain": [
       "{\n",
       "    \"databricks\": {\n",
       "        \"eggLibraries\": [],\n",
       "        \"jarLibraries\": [],\n",
       "        \"mavenLibraries\": [],\n",
       "        \"pypiLibraries\": [],\n",
       "        \"rcranLibraries\": []\n",
       "    },\n",
       "    \"docker\": {\n",
       "        \"arguments\": [],\n",
       "        \"baseDockerfile\": \"# Base image\\nFROM mcr.microsoft.com/azureml/base\\n\\n# Avoid warnings by switching to noninteractive\\nENV DEBIAN_FRONTEND=noninteractive\\n\\n# Non-root user with sudo access\\nARG USERNAME=default\\nARG USER_UID=1000\\nARG USER_GID=$USER_UID\\n\\n# Apt deps\\nRUN apt-get update \\\\\\n    && apt-get -y install --no-install-recommends apt-utils dialog 2>&1 \\\\\\n    && apt-get -y install \\\\\\n        sudo \\\\\\n        curl \\\\\\n    && apt-get autoremove -y \\\\\\n    && apt-get clean -y \\\\\\n    && rm -rf /var/lib/apt/lists/* \\\\\\n    # az CLI\\n    && curl -sL https://aka.ms/InstallAzureCLIDeb | sudo bash \\\\\\n    && apt-get clean -y \\\\\\n    && rm -rf /var/lib/apt/lists/* \\\\\\n    # pip deps\\n    && pip install azureml-sdk[notebooks,automl,explain] \\\\\\n    # create non-root user\\n    && groupadd --gid $USER_GID $USERNAME \\\\\\n    && useradd -s /bin/bash --uid $USER_UID --gid $USER_GID -m $USERNAME \\\\\\n    && echo $USERNAME ALL=\\\\(root\\\\) NOPASSWD:ALL > /etc/sudoers.d/$USERNAME \\\\\\n    && chmod 0440 /etc/sudoers.d/$USERNAME \\\\\\n    # fix conda permissions\\n    && mkdir /opt/miniconda/pkgs \\\\\\n    && chown -R $USER_UID:$USER_GID /opt/miniconda/pkgs\",\n",
       "        \"baseImage\": null,\n",
       "        \"baseImageRegistry\": {\n",
       "            \"address\": null,\n",
       "            \"password\": null,\n",
       "            \"registryIdentity\": null,\n",
       "            \"username\": null\n",
       "        },\n",
       "        \"enabled\": true,\n",
       "        \"platform\": {\n",
       "            \"architecture\": \"amd64\",\n",
       "            \"os\": \"Linux\"\n",
       "        },\n",
       "        \"sharedVolumes\": true,\n",
       "        \"shmSize\": null\n",
       "    },\n",
       "    \"environmentVariables\": {\n",
       "        \"EXAMPLE_ENV_VAR\": \"EXAMPLE_VALUE\"\n",
       "    },\n",
       "    \"inferencingStackVersion\": null,\n",
       "    \"name\": \"myenv\",\n",
       "    \"python\": {\n",
       "        \"baseCondaEnvironment\": null,\n",
       "        \"condaDependencies\": {\n",
       "            \"channels\": [\n",
       "                \"anaconda\",\n",
       "                \"conda-forge\"\n",
       "            ],\n",
       "            \"dependencies\": [\n",
       "                \"python=3.6.2\",\n",
       "                {\n",
       "                    \"pip\": [\n",
       "                        \"azureml-defaults\"\n",
       "                    ]\n",
       "                }\n",
       "            ],\n",
       "            \"name\": \"project_environment\"\n",
       "        },\n",
       "        \"condaDependenciesFile\": null,\n",
       "        \"interpreterPath\": \"python\",\n",
       "        \"userManagedDependencies\": true\n",
       "    },\n",
       "    \"r\": null,\n",
       "    \"spark\": {\n",
       "        \"packages\": [],\n",
       "        \"precachePackages\": true,\n",
       "        \"repositories\": []\n",
       "    },\n",
       "    \"version\": \"2\"\n",
       "}"
      ]
     },
     "metadata": {},
     "execution_count": 6
    }
   ],
   "source": [
    "# Register the Docker environment\n",
    "myenv.register(workspace=ws)"
   ]
  },
  {
   "cell_type": "code",
   "execution_count": 7,
   "metadata": {},
   "outputs": [
    {
     "output_type": "stream",
     "name": "stdout",
     "text": [
      "Name: myenv\nName: AzureML-AutoML\nName: AzureML-PyTorch-1.0-GPU\nName: AzureML-Scikit-learn-0.20.3\nName: AzureML-TensorFlow-1.12-CPU\nName: AzureML-PyTorch-1.2-GPU\nName: AzureML-TensorFlow-2.0-GPU\nName: AzureML-TensorFlow-2.0-CPU\nName: AzureML-Chainer-5.1.0-GPU\nName: AzureML-TensorFlow-1.13-CPU\nName: AzureML-Minimal\nName: AzureML-Chainer-5.1.0-CPU\nName: AzureML-PyTorch-1.4-GPU\nName: AzureML-PySpark-MmlSpark-0.15\nName: AzureML-PyTorch-1.3-CPU\nName: AzureML-PyTorch-1.1-GPU\nName: AzureML-TensorFlow-1.10-GPU\nName: AzureML-PyTorch-1.2-CPU\nName: AzureML-TensorFlow-1.13-GPU\nName: AzureML-TensorFlow-1.10-CPU\nName: AzureML-PyTorch-1.3-GPU\nName: AzureML-PyTorch-1.4-CPU\nName: AzureML-Tutorial\nName: AzureML-PyTorch-1.0-CPU\nName: AzureML-PyTorch-1.1-CPU\nName: AzureML-TensorFlow-1.12-GPU\nName: AzureML-Designer-VowpalWabbit\nName: AzureML-TensorFlow-2.2-GPU\nName: AzureML-TensorFlow-2.2-CPU\nName: AzureML-PyTorch-1.6-CPU\nName: AzureML-PyTorch-1.6-GPU\nName: AzureML-Triton\nName: AzureML-TensorFlow-2.3-CPU\nName: AzureML-TensorFlow-2.3-GPU\nName: AzureML-DeepSpeed-0.3-GPU\nName: AzureML-Sidecar\nName: AzureML-Dask-CPU\nName: AzureML-Dask-GPU\nName: AzureML-TensorFlow-2.1-GPU\nName: AzureML-PyTorch-1.5-GPU\nName: AzureML-PyTorch-1.5-CPU\nName: AzureML-TensorFlow-2.1-CPU\nName: AzureML-AutoML-DNN-Vision-GPU\nName: AzureML-Hyperdrive-ForecastDNN\nName: AzureML-AutoML-DNN\nName: AzureML-VowpalWabbit-8.8.0\nName: AzureML-AutoML-DNN-GPU\nName: AzureML-AutoML-GPU\nName: AzureML-Designer-Score\nName: AzureML-Designer-PyTorch-Train\nName: AzureML-Designer-IO\nName: AzureML-Designer-Transform\nName: AzureML-Designer-Recommender\nName: AzureML-Designer-CV\nName: AzureML-Designer-NLP\nName: AzureML-Designer-PyTorch\nName: AzureML-Designer-CV-Transform\nName: AzureML-Designer\nName: AzureML-Designer-R\n"
     ]
    }
   ],
   "source": [
    "# List registered envs\n",
    "from azureml.core import Environment\n",
    "\n",
    "env_names = Environment.list(workspace=ws)\n",
    "for env_name in env_names:\n",
    "    print('Name:',env_name)"
   ]
  },
  {
   "cell_type": "code",
   "execution_count": 11,
   "metadata": {},
   "outputs": [],
   "source": [
    "# Create a compute target\n",
    "from azureml.core.compute import ComputeTarget, ComputeInstance\n",
    "\n",
    "# Load the workspace from the saved config file\n",
    "ws = Workspace.from_config()\n",
    "\n",
    "# Specify a name for the compute (unique within the workspace)\n",
    "compute_name = 'nossh'\n",
    "\n",
    "# Define compute configuration\n",
    "compute_config = ComputeInstance.provisioning_configuration(vm_size='STANDARD_DS11_V2')\n",
    "\n",
    "# Create the compute\n",
    "compute_instance = ComputeTarget.create(ws, compute_name, compute_config)\n",
    "# compute_instance.wait_for_completion(show_output=True)"
   ]
  },
  {
   "cell_type": "code",
   "execution_count": 12,
   "metadata": {},
   "outputs": [],
   "source": [
    "# Submit to target\n",
    "from azureml.core import Experiment, ScriptRunConfig\n",
    "\n",
    "# Create a script config\n",
    "script_config = ScriptRunConfig(source_directory='scripts',\n",
    "                                script='diabetes_lr_ds.py',\n",
    "                                arguments = ['--ds-name', 'diabetes'],\n",
    "                                compute_target=compute_instance,\n",
    "                                environment=myenv)\n",
    "\n",
    "# Submit the experiment\n",
    "experiment = Experiment(workspace=ws, name='diabetes_lr')\n",
    "run = experiment.submit(config=script_config)"
   ]
  },
  {
   "cell_type": "code",
   "execution_count": null,
   "metadata": {},
   "outputs": [],
   "source": []
  }
 ]
}